{
  "nbformat": 4,
  "nbformat_minor": 0,
  "metadata": {
    "colab": {
      "provenance": [],
      "authorship_tag": "ABX9TyNhzwh1a8jbZ7r+LOWLK6l5",
      "include_colab_link": true
    },
    "kernelspec": {
      "name": "python3",
      "display_name": "Python 3"
    },
    "language_info": {
      "name": "python"
    },
    "accelerator": "GPU",
    "gpuClass": "standard"
  },
  "cells": [
    {
      "cell_type": "markdown",
      "metadata": {
        "id": "view-in-github",
        "colab_type": "text"
      },
      "source": [
        "<a href=\"https://colab.research.google.com/github/openvlan/templates_notebooks/blob/main/Server_colab.ipynb\" target=\"_parent\"><img src=\"https://colab.research.google.com/assets/colab-badge.svg\" alt=\"Open In Colab\"/></a>"
      ]
    },
    {
      "cell_type": "code",
      "source": [
        "!pip install colab_ssh --upgrade"
      ],
      "metadata": {
        "colab": {
          "base_uri": "https://localhost:8080/"
        },
        "id": "1VUZlKYw0wqd",
        "outputId": "47244c8d-0850-436f-b4b8-dd94230e99c0"
      },
      "execution_count": 1,
      "outputs": [
        {
          "output_type": "stream",
          "name": "stdout",
          "text": [
            "Looking in indexes: https://pypi.org/simple, https://us-python.pkg.dev/colab-wheels/public/simple/\n",
            "Collecting colab_ssh\n",
            "  Downloading colab_ssh-0.3.27-py3-none-any.whl (26 kB)\n",
            "Installing collected packages: colab_ssh\n",
            "Successfully installed colab_ssh-0.3.27\n"
          ]
        }
      ]
    },
    {
      "cell_type": "code",
      "source": [
        "!cat /usr/local/lib/python3.9/dist-packages/colab_ssh/launch_ssh_cloudflared.py | sed 's/from IPython.display import display, HTML/#Remove line/g' | sed -i 's/display(HTML(render_template(\"launch_ssh_cloudflared.html\", info)))/print (info)/g' /usr/local/lib/python3.9/dist-packages/colab_ssh/launch_ssh_cloudflared.py"
      ],
      "metadata": {
        "id": "NUYQgqX_uMzJ"
      },
      "execution_count": 2,
      "outputs": []
    },
    {
      "cell_type": "code",
      "source": [
        "%%capture cap\n",
        "#!pip install colab_ssh --upgrade\n",
        "from colab_ssh import launch_ssh_cloudflared, init_git_cloudflared\n",
        "launch_ssh_cloudflared(password=\"Tomate1234!$\")\n",
        "sourceFile = open('output.json', 'w')\n",
        "print(cap, file=sourceFile)\n",
        "sourceFile.close()\n"
      ],
      "metadata": {
        "id": "-18nUOKCR155"
      },
      "execution_count": 4,
      "outputs": []
    },
    {
      "cell_type": "code",
      "source": [
        "!cat output.json | sed -i \"s/'/\\\"/g\" output.json\n",
        "!cat output.json"
      ],
      "metadata": {
        "colab": {
          "base_uri": "https://localhost:8080/"
        },
        "id": "9FtTlUraiQhW",
        "outputId": "9bf4cb09-55f3-42ed-c221-b6762ca5abf4"
      },
      "execution_count": 7,
      "outputs": [
        {
          "output_type": "stream",
          "name": "stdout",
          "text": [
            "{\"domain\": \"raleigh-cnet-netscape-bl.trycloudflare.com\", \"protocol\": \"\", \"port\": 22}\n",
            "\n"
          ]
        }
      ]
    },
    {
      "cell_type": "code",
      "source": [
        "import json\n",
        "with open(\"output.json\") as jsonFile:\n",
        "        data = json.load(jsonFile)\n",
        "        jsonData = data[\"domain\"]\n",
        "        print (jsonData)\n"
      ],
      "metadata": {
        "id": "UF5RqqiPtniZ",
        "outputId": "43752122-7702-4df6-eab8-1484a1b55a2b",
        "colab": {
          "base_uri": "https://localhost:8080/"
        }
      },
      "execution_count": 8,
      "outputs": [
        {
          "output_type": "stream",
          "name": "stdout",
          "text": [
            "raleigh-cnet-netscape-bl.trycloudflare.com\n"
          ]
        }
      ]
    }
  ]
}